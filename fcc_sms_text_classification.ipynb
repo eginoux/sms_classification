{
  "cells": [
    {
      "cell_type": "markdown",
      "metadata": {},
      "source": [
        "# Imports"
      ]
    },
    {
      "cell_type": "code",
      "execution_count": 87,
      "metadata": {
        "id": "8RZOuS9LWQvv"
      },
      "outputs": [],
      "source": [
        "import tensorflow as tf\n",
        "import pandas as pd\n",
        "from tensorflow import keras\n",
        "import tensorflow_datasets as tfds\n",
        "import numpy as np\n",
        "import matplotlib.pyplot as plt\n",
        "from tensorflow.keras import Sequential, layers\n",
        "from tensorflow.keras.callbacks import EarlyStopping"
      ]
    },
    {
      "cell_type": "markdown",
      "metadata": {},
      "source": [
        "# Load Data"
      ]
    },
    {
      "cell_type": "code",
      "execution_count": 2,
      "metadata": {
        "id": "lMHwYXHXCar3"
      },
      "outputs": [],
      "source": [
        "# get data files\n",
        "#!wget https://cdn.freecodecamp.org/project-data/sms/train-data.tsv\n",
        "#!wget https://cdn.freecodecamp.org/project-data/sms/valid-data.tsv\n"
      ]
    },
    {
      "cell_type": "code",
      "execution_count": 3,
      "metadata": {
        "id": "g_h508FEClxO"
      },
      "outputs": [],
      "source": [
        "# !mkdir data\n",
        "# !mv train-data.tsv valid-data.tsv data"
      ]
    },
    {
      "cell_type": "code",
      "execution_count": 4,
      "metadata": {
        "id": "zOMKywn4zReN"
      },
      "outputs": [],
      "source": [
        "train_file_path = \"data/train-data.tsv\"\n",
        "test_file_path = \"data/valid-data.tsv\""
      ]
    },
    {
      "cell_type": "code",
      "execution_count": 6,
      "metadata": {},
      "outputs": [],
      "source": [
        "train_data = pd.read_csv(train_file_path, \n",
        "                         sep=\"\\t\", \n",
        "                         header=None, \n",
        "                         names=[\"type\", \"message\"])\n",
        "\n",
        "test_data = pd.read_csv(test_file_path, \n",
        "                        sep=\"\\t\", \n",
        "                        header=None, \n",
        "                        names = [\"type\", \"message\"])"
      ]
    },
    {
      "cell_type": "code",
      "execution_count": 7,
      "metadata": {},
      "outputs": [
        {
          "data": {
            "text/html": [
              "<div>\n",
              "<style scoped>\n",
              "    .dataframe tbody tr th:only-of-type {\n",
              "        vertical-align: middle;\n",
              "    }\n",
              "\n",
              "    .dataframe tbody tr th {\n",
              "        vertical-align: top;\n",
              "    }\n",
              "\n",
              "    .dataframe thead th {\n",
              "        text-align: right;\n",
              "    }\n",
              "</style>\n",
              "<table border=\"1\" class=\"dataframe\">\n",
              "  <thead>\n",
              "    <tr style=\"text-align: right;\">\n",
              "      <th></th>\n",
              "      <th>type</th>\n",
              "      <th>message</th>\n",
              "    </tr>\n",
              "  </thead>\n",
              "  <tbody>\n",
              "    <tr>\n",
              "      <th>0</th>\n",
              "      <td>ham</td>\n",
              "      <td>ahhhh...just woken up!had a bad dream about u ...</td>\n",
              "    </tr>\n",
              "    <tr>\n",
              "      <th>1</th>\n",
              "      <td>ham</td>\n",
              "      <td>you can never do nothing</td>\n",
              "    </tr>\n",
              "    <tr>\n",
              "      <th>2</th>\n",
              "      <td>ham</td>\n",
              "      <td>now u sound like manky scouse boy steve,like! ...</td>\n",
              "    </tr>\n",
              "    <tr>\n",
              "      <th>3</th>\n",
              "      <td>ham</td>\n",
              "      <td>mum say we wan to go then go... then she can s...</td>\n",
              "    </tr>\n",
              "    <tr>\n",
              "      <th>4</th>\n",
              "      <td>ham</td>\n",
              "      <td>never y lei... i v lazy... got wat? dat day ü ...</td>\n",
              "    </tr>\n",
              "    <tr>\n",
              "      <th>...</th>\n",
              "      <td>...</td>\n",
              "      <td>...</td>\n",
              "    </tr>\n",
              "    <tr>\n",
              "      <th>4174</th>\n",
              "      <td>ham</td>\n",
              "      <td>just woke up. yeesh its late. but i didn't fal...</td>\n",
              "    </tr>\n",
              "    <tr>\n",
              "      <th>4175</th>\n",
              "      <td>ham</td>\n",
              "      <td>what do u reckon as need 2 arrange transport i...</td>\n",
              "    </tr>\n",
              "    <tr>\n",
              "      <th>4176</th>\n",
              "      <td>spam</td>\n",
              "      <td>free entry into our £250 weekly competition ju...</td>\n",
              "    </tr>\n",
              "    <tr>\n",
              "      <th>4177</th>\n",
              "      <td>spam</td>\n",
              "      <td>-pls stop bootydelious (32/f) is inviting you ...</td>\n",
              "    </tr>\n",
              "    <tr>\n",
              "      <th>4178</th>\n",
              "      <td>ham</td>\n",
              "      <td>tell my  bad character which u dnt lik in me. ...</td>\n",
              "    </tr>\n",
              "  </tbody>\n",
              "</table>\n",
              "<p>4179 rows × 2 columns</p>\n",
              "</div>"
            ],
            "text/plain": [
              "      type                                            message\n",
              "0      ham  ahhhh...just woken up!had a bad dream about u ...\n",
              "1      ham                           you can never do nothing\n",
              "2      ham  now u sound like manky scouse boy steve,like! ...\n",
              "3      ham  mum say we wan to go then go... then she can s...\n",
              "4      ham  never y lei... i v lazy... got wat? dat day ü ...\n",
              "...    ...                                                ...\n",
              "4174   ham  just woke up. yeesh its late. but i didn't fal...\n",
              "4175   ham  what do u reckon as need 2 arrange transport i...\n",
              "4176  spam  free entry into our £250 weekly competition ju...\n",
              "4177  spam  -pls stop bootydelious (32/f) is inviting you ...\n",
              "4178   ham  tell my  bad character which u dnt lik in me. ...\n",
              "\n",
              "[4179 rows x 2 columns]"
            ]
          },
          "execution_count": 7,
          "metadata": {},
          "output_type": "execute_result"
        }
      ],
      "source": [
        "train_data"
      ]
    },
    {
      "cell_type": "code",
      "execution_count": 8,
      "metadata": {},
      "outputs": [
        {
          "data": {
            "text/html": [
              "<div>\n",
              "<style scoped>\n",
              "    .dataframe tbody tr th:only-of-type {\n",
              "        vertical-align: middle;\n",
              "    }\n",
              "\n",
              "    .dataframe tbody tr th {\n",
              "        vertical-align: top;\n",
              "    }\n",
              "\n",
              "    .dataframe thead th {\n",
              "        text-align: right;\n",
              "    }\n",
              "</style>\n",
              "<table border=\"1\" class=\"dataframe\">\n",
              "  <thead>\n",
              "    <tr style=\"text-align: right;\">\n",
              "      <th></th>\n",
              "      <th>type</th>\n",
              "      <th>message</th>\n",
              "    </tr>\n",
              "  </thead>\n",
              "  <tbody>\n",
              "    <tr>\n",
              "      <th>0</th>\n",
              "      <td>ham</td>\n",
              "      <td>i am in hospital da. . i will return home in e...</td>\n",
              "    </tr>\n",
              "    <tr>\n",
              "      <th>1</th>\n",
              "      <td>ham</td>\n",
              "      <td>not much, just some textin'. how bout you?</td>\n",
              "    </tr>\n",
              "    <tr>\n",
              "      <th>2</th>\n",
              "      <td>ham</td>\n",
              "      <td>i probably won't eat at all today. i think i'm...</td>\n",
              "    </tr>\n",
              "    <tr>\n",
              "      <th>3</th>\n",
              "      <td>ham</td>\n",
              "      <td>don‘t give a flying monkeys wot they think and...</td>\n",
              "    </tr>\n",
              "    <tr>\n",
              "      <th>4</th>\n",
              "      <td>ham</td>\n",
              "      <td>who are you seeing?</td>\n",
              "    </tr>\n",
              "    <tr>\n",
              "      <th>...</th>\n",
              "      <td>...</td>\n",
              "      <td>...</td>\n",
              "    </tr>\n",
              "    <tr>\n",
              "      <th>1387</th>\n",
              "      <td>ham</td>\n",
              "      <td>true dear..i sat to pray evening and felt so.s...</td>\n",
              "    </tr>\n",
              "    <tr>\n",
              "      <th>1388</th>\n",
              "      <td>ham</td>\n",
              "      <td>what will we do in the shower, baby?</td>\n",
              "    </tr>\n",
              "    <tr>\n",
              "      <th>1389</th>\n",
              "      <td>ham</td>\n",
              "      <td>where are you ? what are you doing ? are yuou ...</td>\n",
              "    </tr>\n",
              "    <tr>\n",
              "      <th>1390</th>\n",
              "      <td>spam</td>\n",
              "      <td>ur cash-balance is currently 500 pounds - to m...</td>\n",
              "    </tr>\n",
              "    <tr>\n",
              "      <th>1391</th>\n",
              "      <td>spam</td>\n",
              "      <td>not heard from u4 a while. call 4 rude chat pr...</td>\n",
              "    </tr>\n",
              "  </tbody>\n",
              "</table>\n",
              "<p>1392 rows × 2 columns</p>\n",
              "</div>"
            ],
            "text/plain": [
              "      type                                            message\n",
              "0      ham  i am in hospital da. . i will return home in e...\n",
              "1      ham         not much, just some textin'. how bout you?\n",
              "2      ham  i probably won't eat at all today. i think i'm...\n",
              "3      ham  don‘t give a flying monkeys wot they think and...\n",
              "4      ham                                who are you seeing?\n",
              "...    ...                                                ...\n",
              "1387   ham  true dear..i sat to pray evening and felt so.s...\n",
              "1388   ham               what will we do in the shower, baby?\n",
              "1389   ham  where are you ? what are you doing ? are yuou ...\n",
              "1390  spam  ur cash-balance is currently 500 pounds - to m...\n",
              "1391  spam  not heard from u4 a while. call 4 rude chat pr...\n",
              "\n",
              "[1392 rows x 2 columns]"
            ]
          },
          "execution_count": 8,
          "metadata": {},
          "output_type": "execute_result"
        }
      ],
      "source": [
        "test_data"
      ]
    },
    {
      "cell_type": "code",
      "execution_count": 9,
      "metadata": {},
      "outputs": [],
      "source": [
        "train_data[\"type\"] = train_data[\"type\"].replace([\"ham\", \"spam\"], [0, 1])\n",
        "test_data[\"type\"] = test_data[\"type\"].replace([\"ham\", \"spam\"], [0, 1])"
      ]
    },
    {
      "cell_type": "code",
      "execution_count": 10,
      "metadata": {},
      "outputs": [
        {
          "data": {
            "text/html": [
              "<div>\n",
              "<style scoped>\n",
              "    .dataframe tbody tr th:only-of-type {\n",
              "        vertical-align: middle;\n",
              "    }\n",
              "\n",
              "    .dataframe tbody tr th {\n",
              "        vertical-align: top;\n",
              "    }\n",
              "\n",
              "    .dataframe thead th {\n",
              "        text-align: right;\n",
              "    }\n",
              "</style>\n",
              "<table border=\"1\" class=\"dataframe\">\n",
              "  <thead>\n",
              "    <tr style=\"text-align: right;\">\n",
              "      <th></th>\n",
              "      <th>type</th>\n",
              "      <th>message</th>\n",
              "    </tr>\n",
              "  </thead>\n",
              "  <tbody>\n",
              "    <tr>\n",
              "      <th>0</th>\n",
              "      <td>0</td>\n",
              "      <td>ahhhh...just woken up!had a bad dream about u ...</td>\n",
              "    </tr>\n",
              "    <tr>\n",
              "      <th>1</th>\n",
              "      <td>0</td>\n",
              "      <td>you can never do nothing</td>\n",
              "    </tr>\n",
              "    <tr>\n",
              "      <th>2</th>\n",
              "      <td>0</td>\n",
              "      <td>now u sound like manky scouse boy steve,like! ...</td>\n",
              "    </tr>\n",
              "    <tr>\n",
              "      <th>3</th>\n",
              "      <td>0</td>\n",
              "      <td>mum say we wan to go then go... then she can s...</td>\n",
              "    </tr>\n",
              "    <tr>\n",
              "      <th>4</th>\n",
              "      <td>0</td>\n",
              "      <td>never y lei... i v lazy... got wat? dat day ü ...</td>\n",
              "    </tr>\n",
              "    <tr>\n",
              "      <th>...</th>\n",
              "      <td>...</td>\n",
              "      <td>...</td>\n",
              "    </tr>\n",
              "    <tr>\n",
              "      <th>4174</th>\n",
              "      <td>0</td>\n",
              "      <td>just woke up. yeesh its late. but i didn't fal...</td>\n",
              "    </tr>\n",
              "    <tr>\n",
              "      <th>4175</th>\n",
              "      <td>0</td>\n",
              "      <td>what do u reckon as need 2 arrange transport i...</td>\n",
              "    </tr>\n",
              "    <tr>\n",
              "      <th>4176</th>\n",
              "      <td>1</td>\n",
              "      <td>free entry into our £250 weekly competition ju...</td>\n",
              "    </tr>\n",
              "    <tr>\n",
              "      <th>4177</th>\n",
              "      <td>1</td>\n",
              "      <td>-pls stop bootydelious (32/f) is inviting you ...</td>\n",
              "    </tr>\n",
              "    <tr>\n",
              "      <th>4178</th>\n",
              "      <td>0</td>\n",
              "      <td>tell my  bad character which u dnt lik in me. ...</td>\n",
              "    </tr>\n",
              "  </tbody>\n",
              "</table>\n",
              "<p>4179 rows × 2 columns</p>\n",
              "</div>"
            ],
            "text/plain": [
              "      type                                            message\n",
              "0        0  ahhhh...just woken up!had a bad dream about u ...\n",
              "1        0                           you can never do nothing\n",
              "2        0  now u sound like manky scouse boy steve,like! ...\n",
              "3        0  mum say we wan to go then go... then she can s...\n",
              "4        0  never y lei... i v lazy... got wat? dat day ü ...\n",
              "...    ...                                                ...\n",
              "4174     0  just woke up. yeesh its late. but i didn't fal...\n",
              "4175     0  what do u reckon as need 2 arrange transport i...\n",
              "4176     1  free entry into our £250 weekly competition ju...\n",
              "4177     1  -pls stop bootydelious (32/f) is inviting you ...\n",
              "4178     0  tell my  bad character which u dnt lik in me. ...\n",
              "\n",
              "[4179 rows x 2 columns]"
            ]
          },
          "execution_count": 10,
          "metadata": {},
          "output_type": "execute_result"
        }
      ],
      "source": [
        "train_data"
      ]
    },
    {
      "cell_type": "code",
      "execution_count": 11,
      "metadata": {},
      "outputs": [
        {
          "data": {
            "text/html": [
              "<div>\n",
              "<style scoped>\n",
              "    .dataframe tbody tr th:only-of-type {\n",
              "        vertical-align: middle;\n",
              "    }\n",
              "\n",
              "    .dataframe tbody tr th {\n",
              "        vertical-align: top;\n",
              "    }\n",
              "\n",
              "    .dataframe thead th {\n",
              "        text-align: right;\n",
              "    }\n",
              "</style>\n",
              "<table border=\"1\" class=\"dataframe\">\n",
              "  <thead>\n",
              "    <tr style=\"text-align: right;\">\n",
              "      <th></th>\n",
              "      <th>type</th>\n",
              "      <th>message</th>\n",
              "    </tr>\n",
              "  </thead>\n",
              "  <tbody>\n",
              "    <tr>\n",
              "      <th>0</th>\n",
              "      <td>0</td>\n",
              "      <td>i am in hospital da. . i will return home in e...</td>\n",
              "    </tr>\n",
              "    <tr>\n",
              "      <th>1</th>\n",
              "      <td>0</td>\n",
              "      <td>not much, just some textin'. how bout you?</td>\n",
              "    </tr>\n",
              "    <tr>\n",
              "      <th>2</th>\n",
              "      <td>0</td>\n",
              "      <td>i probably won't eat at all today. i think i'm...</td>\n",
              "    </tr>\n",
              "    <tr>\n",
              "      <th>3</th>\n",
              "      <td>0</td>\n",
              "      <td>don‘t give a flying monkeys wot they think and...</td>\n",
              "    </tr>\n",
              "    <tr>\n",
              "      <th>4</th>\n",
              "      <td>0</td>\n",
              "      <td>who are you seeing?</td>\n",
              "    </tr>\n",
              "    <tr>\n",
              "      <th>...</th>\n",
              "      <td>...</td>\n",
              "      <td>...</td>\n",
              "    </tr>\n",
              "    <tr>\n",
              "      <th>1387</th>\n",
              "      <td>0</td>\n",
              "      <td>true dear..i sat to pray evening and felt so.s...</td>\n",
              "    </tr>\n",
              "    <tr>\n",
              "      <th>1388</th>\n",
              "      <td>0</td>\n",
              "      <td>what will we do in the shower, baby?</td>\n",
              "    </tr>\n",
              "    <tr>\n",
              "      <th>1389</th>\n",
              "      <td>0</td>\n",
              "      <td>where are you ? what are you doing ? are yuou ...</td>\n",
              "    </tr>\n",
              "    <tr>\n",
              "      <th>1390</th>\n",
              "      <td>1</td>\n",
              "      <td>ur cash-balance is currently 500 pounds - to m...</td>\n",
              "    </tr>\n",
              "    <tr>\n",
              "      <th>1391</th>\n",
              "      <td>1</td>\n",
              "      <td>not heard from u4 a while. call 4 rude chat pr...</td>\n",
              "    </tr>\n",
              "  </tbody>\n",
              "</table>\n",
              "<p>1392 rows × 2 columns</p>\n",
              "</div>"
            ],
            "text/plain": [
              "      type                                            message\n",
              "0        0  i am in hospital da. . i will return home in e...\n",
              "1        0         not much, just some textin'. how bout you?\n",
              "2        0  i probably won't eat at all today. i think i'm...\n",
              "3        0  don‘t give a flying monkeys wot they think and...\n",
              "4        0                                who are you seeing?\n",
              "...    ...                                                ...\n",
              "1387     0  true dear..i sat to pray evening and felt so.s...\n",
              "1388     0               what will we do in the shower, baby?\n",
              "1389     0  where are you ? what are you doing ? are yuou ...\n",
              "1390     1  ur cash-balance is currently 500 pounds - to m...\n",
              "1391     1  not heard from u4 a while. call 4 rude chat pr...\n",
              "\n",
              "[1392 rows x 2 columns]"
            ]
          },
          "execution_count": 11,
          "metadata": {},
          "output_type": "execute_result"
        }
      ],
      "source": [
        "test_data"
      ]
    },
    {
      "cell_type": "markdown",
      "metadata": {},
      "source": [
        "# Data exploration"
      ]
    },
    {
      "cell_type": "code",
      "execution_count": 12,
      "metadata": {},
      "outputs": [
        {
          "data": {
            "text/html": [
              "<div>\n",
              "<style scoped>\n",
              "    .dataframe tbody tr th:only-of-type {\n",
              "        vertical-align: middle;\n",
              "    }\n",
              "\n",
              "    .dataframe tbody tr th {\n",
              "        vertical-align: top;\n",
              "    }\n",
              "\n",
              "    .dataframe thead th {\n",
              "        text-align: right;\n",
              "    }\n",
              "</style>\n",
              "<table border=\"1\" class=\"dataframe\">\n",
              "  <thead>\n",
              "    <tr style=\"text-align: right;\">\n",
              "      <th></th>\n",
              "      <th>type</th>\n",
              "    </tr>\n",
              "  </thead>\n",
              "  <tbody>\n",
              "    <tr>\n",
              "      <th>count</th>\n",
              "      <td>4179.000000</td>\n",
              "    </tr>\n",
              "    <tr>\n",
              "      <th>mean</th>\n",
              "      <td>0.134003</td>\n",
              "    </tr>\n",
              "    <tr>\n",
              "      <th>std</th>\n",
              "      <td>0.340697</td>\n",
              "    </tr>\n",
              "    <tr>\n",
              "      <th>min</th>\n",
              "      <td>0.000000</td>\n",
              "    </tr>\n",
              "    <tr>\n",
              "      <th>25%</th>\n",
              "      <td>0.000000</td>\n",
              "    </tr>\n",
              "    <tr>\n",
              "      <th>50%</th>\n",
              "      <td>0.000000</td>\n",
              "    </tr>\n",
              "    <tr>\n",
              "      <th>75%</th>\n",
              "      <td>0.000000</td>\n",
              "    </tr>\n",
              "    <tr>\n",
              "      <th>max</th>\n",
              "      <td>1.000000</td>\n",
              "    </tr>\n",
              "  </tbody>\n",
              "</table>\n",
              "</div>"
            ],
            "text/plain": [
              "              type\n",
              "count  4179.000000\n",
              "mean      0.134003\n",
              "std       0.340697\n",
              "min       0.000000\n",
              "25%       0.000000\n",
              "50%       0.000000\n",
              "75%       0.000000\n",
              "max       1.000000"
            ]
          },
          "execution_count": 12,
          "metadata": {},
          "output_type": "execute_result"
        }
      ],
      "source": [
        "train_data.describe()"
      ]
    },
    {
      "cell_type": "code",
      "execution_count": 13,
      "metadata": {},
      "outputs": [
        {
          "data": {
            "text/plain": [
              "type       0\n",
              "message    0\n",
              "dtype: int64"
            ]
          },
          "execution_count": 13,
          "metadata": {},
          "output_type": "execute_result"
        }
      ],
      "source": [
        "train_data.isna().sum()"
      ]
    },
    {
      "cell_type": "code",
      "execution_count": 14,
      "metadata": {},
      "outputs": [
        {
          "data": {
            "text/plain": [
              "244"
            ]
          },
          "execution_count": 14,
          "metadata": {},
          "output_type": "execute_result"
        }
      ],
      "source": [
        "train_data.duplicated().sum()"
      ]
    },
    {
      "cell_type": "code",
      "execution_count": 15,
      "metadata": {},
      "outputs": [
        {
          "data": {
            "text/plain": [
              "(910, 482)"
            ]
          },
          "execution_count": 15,
          "metadata": {},
          "output_type": "execute_result"
        }
      ],
      "source": [
        "train_data.message.str.len().max(), test_data.message.str.len().max()"
      ]
    },
    {
      "cell_type": "code",
      "execution_count": 16,
      "metadata": {},
      "outputs": [
        {
          "data": {
            "text/plain": [
              "0    3619\n",
              "1     560\n",
              "Name: type, dtype: int64"
            ]
          },
          "execution_count": 16,
          "metadata": {},
          "output_type": "execute_result"
        }
      ],
      "source": [
        "train_data.type.value_counts()"
      ]
    },
    {
      "cell_type": "code",
      "execution_count": 17,
      "metadata": {},
      "outputs": [
        {
          "data": {
            "text/plain": [
              "0    1205\n",
              "1     187\n",
              "Name: type, dtype: int64"
            ]
          },
          "execution_count": 17,
          "metadata": {},
          "output_type": "execute_result"
        }
      ],
      "source": [
        "test_data.type.value_counts()"
      ]
    },
    {
      "cell_type": "markdown",
      "metadata": {},
      "source": [
        "# Balance data"
      ]
    },
    {
      "cell_type": "code",
      "execution_count": 18,
      "metadata": {},
      "outputs": [],
      "source": [
        "ham_train_data = train_data[train_data[\"type\"] == 0]\n",
        "spam_train_data = train_data[train_data[\"type\"] != 0]"
      ]
    },
    {
      "cell_type": "code",
      "execution_count": 19,
      "metadata": {},
      "outputs": [
        {
          "data": {
            "text/html": [
              "<div>\n",
              "<style scoped>\n",
              "    .dataframe tbody tr th:only-of-type {\n",
              "        vertical-align: middle;\n",
              "    }\n",
              "\n",
              "    .dataframe tbody tr th {\n",
              "        vertical-align: top;\n",
              "    }\n",
              "\n",
              "    .dataframe thead th {\n",
              "        text-align: right;\n",
              "    }\n",
              "</style>\n",
              "<table border=\"1\" class=\"dataframe\">\n",
              "  <thead>\n",
              "    <tr style=\"text-align: right;\">\n",
              "      <th></th>\n",
              "      <th>type</th>\n",
              "      <th>message</th>\n",
              "    </tr>\n",
              "  </thead>\n",
              "  <tbody>\n",
              "    <tr>\n",
              "      <th>0</th>\n",
              "      <td>0</td>\n",
              "      <td>ahhhh...just woken up!had a bad dream about u ...</td>\n",
              "    </tr>\n",
              "    <tr>\n",
              "      <th>1</th>\n",
              "      <td>0</td>\n",
              "      <td>you can never do nothing</td>\n",
              "    </tr>\n",
              "    <tr>\n",
              "      <th>2</th>\n",
              "      <td>0</td>\n",
              "      <td>now u sound like manky scouse boy steve,like! ...</td>\n",
              "    </tr>\n",
              "    <tr>\n",
              "      <th>3</th>\n",
              "      <td>0</td>\n",
              "      <td>mum say we wan to go then go... then she can s...</td>\n",
              "    </tr>\n",
              "    <tr>\n",
              "      <th>4</th>\n",
              "      <td>0</td>\n",
              "      <td>never y lei... i v lazy... got wat? dat day ü ...</td>\n",
              "    </tr>\n",
              "    <tr>\n",
              "      <th>...</th>\n",
              "      <td>...</td>\n",
              "      <td>...</td>\n",
              "    </tr>\n",
              "    <tr>\n",
              "      <th>4172</th>\n",
              "      <td>0</td>\n",
              "      <td>not yet chikku..going to room nw, i'm in bus..</td>\n",
              "    </tr>\n",
              "    <tr>\n",
              "      <th>4173</th>\n",
              "      <td>0</td>\n",
              "      <td>tell you what, if you make a little spreadshee...</td>\n",
              "    </tr>\n",
              "    <tr>\n",
              "      <th>4174</th>\n",
              "      <td>0</td>\n",
              "      <td>just woke up. yeesh its late. but i didn't fal...</td>\n",
              "    </tr>\n",
              "    <tr>\n",
              "      <th>4175</th>\n",
              "      <td>0</td>\n",
              "      <td>what do u reckon as need 2 arrange transport i...</td>\n",
              "    </tr>\n",
              "    <tr>\n",
              "      <th>4178</th>\n",
              "      <td>0</td>\n",
              "      <td>tell my  bad character which u dnt lik in me. ...</td>\n",
              "    </tr>\n",
              "  </tbody>\n",
              "</table>\n",
              "<p>3619 rows × 2 columns</p>\n",
              "</div>"
            ],
            "text/plain": [
              "      type                                            message\n",
              "0        0  ahhhh...just woken up!had a bad dream about u ...\n",
              "1        0                           you can never do nothing\n",
              "2        0  now u sound like manky scouse boy steve,like! ...\n",
              "3        0  mum say we wan to go then go... then she can s...\n",
              "4        0  never y lei... i v lazy... got wat? dat day ü ...\n",
              "...    ...                                                ...\n",
              "4172     0     not yet chikku..going to room nw, i'm in bus..\n",
              "4173     0  tell you what, if you make a little spreadshee...\n",
              "4174     0  just woke up. yeesh its late. but i didn't fal...\n",
              "4175     0  what do u reckon as need 2 arrange transport i...\n",
              "4178     0  tell my  bad character which u dnt lik in me. ...\n",
              "\n",
              "[3619 rows x 2 columns]"
            ]
          },
          "execution_count": 19,
          "metadata": {},
          "output_type": "execute_result"
        }
      ],
      "source": [
        "ham_train_data"
      ]
    },
    {
      "cell_type": "code",
      "execution_count": 20,
      "metadata": {},
      "outputs": [
        {
          "data": {
            "text/html": [
              "<div>\n",
              "<style scoped>\n",
              "    .dataframe tbody tr th:only-of-type {\n",
              "        vertical-align: middle;\n",
              "    }\n",
              "\n",
              "    .dataframe tbody tr th {\n",
              "        vertical-align: top;\n",
              "    }\n",
              "\n",
              "    .dataframe thead th {\n",
              "        text-align: right;\n",
              "    }\n",
              "</style>\n",
              "<table border=\"1\" class=\"dataframe\">\n",
              "  <thead>\n",
              "    <tr style=\"text-align: right;\">\n",
              "      <th></th>\n",
              "      <th>type</th>\n",
              "      <th>message</th>\n",
              "    </tr>\n",
              "  </thead>\n",
              "  <tbody>\n",
              "    <tr>\n",
              "      <th>8</th>\n",
              "      <td>1</td>\n",
              "      <td>urgent! call 09066350750 from your landline. y...</td>\n",
              "    </tr>\n",
              "    <tr>\n",
              "      <th>16</th>\n",
              "      <td>1</td>\n",
              "      <td>bored housewives! chat n date now! 0871750.77....</td>\n",
              "    </tr>\n",
              "    <tr>\n",
              "      <th>20</th>\n",
              "      <td>1</td>\n",
              "      <td>message important information for o2 user. tod...</td>\n",
              "    </tr>\n",
              "    <tr>\n",
              "      <th>37</th>\n",
              "      <td>1</td>\n",
              "      <td>free for 1st week! no1 nokia tone 4 ur mobile ...</td>\n",
              "    </tr>\n",
              "    <tr>\n",
              "      <th>39</th>\n",
              "      <td>1</td>\n",
              "      <td>you have 1 new voicemail. please call 08719181503</td>\n",
              "    </tr>\n",
              "    <tr>\n",
              "      <th>...</th>\n",
              "      <td>...</td>\n",
              "      <td>...</td>\n",
              "    </tr>\n",
              "    <tr>\n",
              "      <th>4164</th>\n",
              "      <td>1</td>\n",
              "      <td>free msg: single? find a partner in your area!...</td>\n",
              "    </tr>\n",
              "    <tr>\n",
              "      <th>4165</th>\n",
              "      <td>1</td>\n",
              "      <td>free2day sexy st george's day pic of jordan!tx...</td>\n",
              "    </tr>\n",
              "    <tr>\n",
              "      <th>4167</th>\n",
              "      <td>1</td>\n",
              "      <td>you are a winner you have been specially selec...</td>\n",
              "    </tr>\n",
              "    <tr>\n",
              "      <th>4176</th>\n",
              "      <td>1</td>\n",
              "      <td>free entry into our £250 weekly competition ju...</td>\n",
              "    </tr>\n",
              "    <tr>\n",
              "      <th>4177</th>\n",
              "      <td>1</td>\n",
              "      <td>-pls stop bootydelious (32/f) is inviting you ...</td>\n",
              "    </tr>\n",
              "  </tbody>\n",
              "</table>\n",
              "<p>560 rows × 2 columns</p>\n",
              "</div>"
            ],
            "text/plain": [
              "      type                                            message\n",
              "8        1  urgent! call 09066350750 from your landline. y...\n",
              "16       1  bored housewives! chat n date now! 0871750.77....\n",
              "20       1  message important information for o2 user. tod...\n",
              "37       1  free for 1st week! no1 nokia tone 4 ur mobile ...\n",
              "39       1  you have 1 new voicemail. please call 08719181503\n",
              "...    ...                                                ...\n",
              "4164     1  free msg: single? find a partner in your area!...\n",
              "4165     1  free2day sexy st george's day pic of jordan!tx...\n",
              "4167     1  you are a winner you have been specially selec...\n",
              "4176     1  free entry into our £250 weekly competition ju...\n",
              "4177     1  -pls stop bootydelious (32/f) is inviting you ...\n",
              "\n",
              "[560 rows x 2 columns]"
            ]
          },
          "execution_count": 20,
          "metadata": {},
          "output_type": "execute_result"
        }
      ],
      "source": [
        "spam_train_data"
      ]
    },
    {
      "cell_type": "code",
      "execution_count": 22,
      "metadata": {},
      "outputs": [],
      "source": [
        "ham_train_data_undersampled = ham_train_data.sample(n = len(spam_train_data),\n",
        "                                                    random_state=13)"
      ]
    },
    {
      "cell_type": "code",
      "execution_count": 25,
      "metadata": {},
      "outputs": [],
      "source": [
        "new_train_data = pd.concat([ham_train_data_undersampled, spam_train_data])"
      ]
    },
    {
      "cell_type": "code",
      "execution_count": 26,
      "metadata": {},
      "outputs": [],
      "source": [
        "new_train_data = new_train_data.sample(frac=1)"
      ]
    },
    {
      "cell_type": "code",
      "execution_count": 27,
      "metadata": {},
      "outputs": [
        {
          "data": {
            "text/html": [
              "<div>\n",
              "<style scoped>\n",
              "    .dataframe tbody tr th:only-of-type {\n",
              "        vertical-align: middle;\n",
              "    }\n",
              "\n",
              "    .dataframe tbody tr th {\n",
              "        vertical-align: top;\n",
              "    }\n",
              "\n",
              "    .dataframe thead th {\n",
              "        text-align: right;\n",
              "    }\n",
              "</style>\n",
              "<table border=\"1\" class=\"dataframe\">\n",
              "  <thead>\n",
              "    <tr style=\"text-align: right;\">\n",
              "      <th></th>\n",
              "      <th>type</th>\n",
              "      <th>message</th>\n",
              "    </tr>\n",
              "  </thead>\n",
              "  <tbody>\n",
              "    <tr>\n",
              "      <th>357</th>\n",
              "      <td>0</td>\n",
              "      <td>ola would get back to you maybe not today but ...</td>\n",
              "    </tr>\n",
              "    <tr>\n",
              "      <th>2817</th>\n",
              "      <td>0</td>\n",
              "      <td>god picked up a flower and dippeditinadew, lov...</td>\n",
              "    </tr>\n",
              "    <tr>\n",
              "      <th>2025</th>\n",
              "      <td>0</td>\n",
              "      <td>u ned to convince him tht its not possible wit...</td>\n",
              "    </tr>\n",
              "    <tr>\n",
              "      <th>798</th>\n",
              "      <td>0</td>\n",
              "      <td>love you aathi..love u lot..</td>\n",
              "    </tr>\n",
              "    <tr>\n",
              "      <th>907</th>\n",
              "      <td>0</td>\n",
              "      <td>i dont have any of your file in my bag..i was ...</td>\n",
              "    </tr>\n",
              "    <tr>\n",
              "      <th>...</th>\n",
              "      <td>...</td>\n",
              "      <td>...</td>\n",
              "    </tr>\n",
              "    <tr>\n",
              "      <th>365</th>\n",
              "      <td>1</td>\n",
              "      <td>your free ringtone is waiting to be collected....</td>\n",
              "    </tr>\n",
              "    <tr>\n",
              "      <th>2385</th>\n",
              "      <td>1</td>\n",
              "      <td>ringtone club: gr8 new polys direct to your mo...</td>\n",
              "    </tr>\n",
              "    <tr>\n",
              "      <th>100</th>\n",
              "      <td>0</td>\n",
              "      <td>i'd say that's a good sign but, well, you know...</td>\n",
              "    </tr>\n",
              "    <tr>\n",
              "      <th>2474</th>\n",
              "      <td>0</td>\n",
              "      <td>just wanted to say holy shit you guys weren't ...</td>\n",
              "    </tr>\n",
              "    <tr>\n",
              "      <th>4151</th>\n",
              "      <td>0</td>\n",
              "      <td>r u &amp;sam p in eachother. if we meet we can go ...</td>\n",
              "    </tr>\n",
              "  </tbody>\n",
              "</table>\n",
              "<p>1120 rows × 2 columns</p>\n",
              "</div>"
            ],
            "text/plain": [
              "      type                                            message\n",
              "357      0  ola would get back to you maybe not today but ...\n",
              "2817     0  god picked up a flower and dippeditinadew, lov...\n",
              "2025     0  u ned to convince him tht its not possible wit...\n",
              "798      0                       love you aathi..love u lot..\n",
              "907      0  i dont have any of your file in my bag..i was ...\n",
              "...    ...                                                ...\n",
              "365      1  your free ringtone is waiting to be collected....\n",
              "2385     1  ringtone club: gr8 new polys direct to your mo...\n",
              "100      0  i'd say that's a good sign but, well, you know...\n",
              "2474     0  just wanted to say holy shit you guys weren't ...\n",
              "4151     0  r u &sam p in eachother. if we meet we can go ...\n",
              "\n",
              "[1120 rows x 2 columns]"
            ]
          },
          "execution_count": 27,
          "metadata": {},
          "output_type": "execute_result"
        }
      ],
      "source": [
        "new_train_data"
      ]
    },
    {
      "cell_type": "markdown",
      "metadata": {},
      "source": [
        "# Data preprocessing"
      ]
    },
    {
      "cell_type": "code",
      "execution_count": 28,
      "metadata": {},
      "outputs": [],
      "source": [
        "X_train = new_train_data[\"message\"].values\n",
        "y_train = new_train_data[\"type\"].values\n",
        "X_test = test_data[\"message\"].values\n",
        "y_test = test_data[\"type\"].values"
      ]
    },
    {
      "cell_type": "code",
      "execution_count": 29,
      "metadata": {},
      "outputs": [],
      "source": [
        "train_data_from_tensor_slices = tf.data.Dataset.from_tensor_slices(\n",
        "    (X_train, \n",
        "    y_train))"
      ]
    },
    {
      "cell_type": "code",
      "execution_count": 30,
      "metadata": {},
      "outputs": [],
      "source": [
        "test_data_from_tensor_slices = tf.data.Dataset.from_tensor_slices(\n",
        "    (X_test, \n",
        "    y_test))"
      ]
    },
    {
      "cell_type": "code",
      "execution_count": 31,
      "metadata": {},
      "outputs": [],
      "source": [
        "# MAXLEN = (910 + 482) // 2\n",
        "# trunc_type = \"post\"\n",
        "# padding_type = \"post\"\n",
        "# oov_token = \"<OOV>\""
      ]
    },
    {
      "cell_type": "code",
      "execution_count": 32,
      "metadata": {},
      "outputs": [],
      "source": [
        "train_data_from_tensor_slices = train_data_from_tensor_slices.shuffle(100).batch(32).prefetch(tf.data.AUTOTUNE)\n",
        "test_data_from_tensor_slices = test_data_from_tensor_slices.batch(32).prefetch(tf.data.AUTOTUNE)"
      ]
    },
    {
      "cell_type": "code",
      "execution_count": 33,
      "metadata": {},
      "outputs": [],
      "source": [
        "vectorizer_layer = layers.TextVectorization(output_mode='int',\n",
        "                                            max_tokens=1000,\n",
        "                                            output_sequence_length=1000,\n",
        ")\n",
        "\n",
        "vectorizer_layer.adapt(train_data_from_tensor_slices.map(lambda text, label: text))"
      ]
    },
    {
      "cell_type": "code",
      "execution_count": 34,
      "metadata": {},
      "outputs": [],
      "source": [
        "# tokenizer = Tokenizer(char_level=False, oov_token=oov_token)\n",
        "# tokenizer.fit_on_texts(X_train)\n",
        "\n",
        "# vocab_size = len(tokenizer.word_index)\n",
        "# vocab_size"
      ]
    },
    {
      "cell_type": "code",
      "execution_count": 35,
      "metadata": {},
      "outputs": [],
      "source": [
        "# X_train_sequenced = tokenizer.texts_to_sequences(X_train)\n",
        "# X_train_padded = pad_sequences(X_train_sequenced, \n",
        "#                                maxlen = MAXLEN,\n",
        "#                                padding = padding_type,\n",
        "#                                truncating = trunc_type)"
      ]
    },
    {
      "cell_type": "code",
      "execution_count": 36,
      "metadata": {},
      "outputs": [],
      "source": [
        "# X_test_sequenced = tokenizer.texts_to_sequences(X_test)\n",
        "# X_test_padded = pad_sequences(X_test_sequenced, \n",
        "#                                maxlen = MAXLEN,\n",
        "#                                padding = padding_type,\n",
        "#                                truncating = trunc_type)"
      ]
    },
    {
      "cell_type": "markdown",
      "metadata": {},
      "source": [
        "# Model"
      ]
    },
    {
      "cell_type": "code",
      "execution_count": 37,
      "metadata": {},
      "outputs": [],
      "source": [
        "# model = Sequential()\n",
        "# model.add(layers.Embedding(vocab_size + 1, 32, input_length = MAXLEN))\n",
        "# model.add(layers.Bidirectional(layers.LSTM(128, recurrent_dropout=0.2, return_sequences=False)))\n",
        "# model.add(layers.Dropout(0.1))\n",
        "# model.add(layers.Dense(64, activation=\"relu\"))\n",
        "# model.add(layers.Dense(1, activation=\"sigmoid\"))\n",
        "\n",
        "# model.compile(optimizer=\"adam\", loss=\"binary_crossentropy\", metrics=[\"accuracy\"])"
      ]
    },
    {
      "cell_type": "code",
      "execution_count": 78,
      "metadata": {},
      "outputs": [],
      "source": [
        "model = Sequential()\n",
        "model.add(vectorizer_layer)\n",
        "model.add(layers.Embedding(len(vectorizer_layer.get_vocabulary()), 32))\n",
        "model.add(layers.Bidirectional(layers.LSTM(128, recurrent_dropout=0.2, return_sequences=False)))\n",
        "model.add(layers.Dropout(0.1))\n",
        "model.add(layers.Dense(64, activation=\"relu\"))\n",
        "model.add(layers.Dense(1, activation=\"sigmoid\"))\n",
        "\n",
        "model.compile(optimizer=\"adam\", loss=\"binary_crossentropy\", metrics=[\"accuracy\"])"
      ]
    },
    {
      "cell_type": "code",
      "execution_count": 79,
      "metadata": {},
      "outputs": [
        {
          "name": "stdout",
          "output_type": "stream",
          "text": [
            "Model: \"sequential_6\"\n",
            "_________________________________________________________________\n",
            " Layer (type)                Output Shape              Param #   \n",
            "=================================================================\n",
            " text_vectorization (TextVe  (None, 1000)              0         \n",
            " ctorization)                                                    \n",
            "                                                                 \n",
            " embedding_6 (Embedding)     (None, 1000, 32)          32000     \n",
            "                                                                 \n",
            " bidirectional_7 (Bidirecti  (None, 256)               164864    \n",
            " onal)                                                           \n",
            "                                                                 \n",
            " dropout_4 (Dropout)         (None, 256)               0         \n",
            "                                                                 \n",
            " dense_13 (Dense)            (None, 64)                16448     \n",
            "                                                                 \n",
            " dense_14 (Dense)            (None, 1)                 65        \n",
            "                                                                 \n",
            "=================================================================\n",
            "Total params: 213377 (833.50 KB)\n",
            "Trainable params: 213377 (833.50 KB)\n",
            "Non-trainable params: 0 (0.00 Byte)\n",
            "_________________________________________________________________\n"
          ]
        }
      ],
      "source": [
        "model.summary()"
      ]
    },
    {
      "cell_type": "code",
      "execution_count": 80,
      "metadata": {},
      "outputs": [],
      "source": [
        "es = EarlyStopping(patience = 3, restore_best_weights=True, monitor= \"val_loss\")"
      ]
    },
    {
      "cell_type": "code",
      "execution_count": 81,
      "metadata": {},
      "outputs": [
        {
          "name": "stdout",
          "output_type": "stream",
          "text": [
            "Epoch 1/20\n"
          ]
        },
        {
          "name": "stdout",
          "output_type": "stream",
          "text": [
            "35/35 [==============================] - 129s 3s/step - loss: 0.5868 - accuracy: 0.7125 - val_loss: 0.4026 - val_accuracy: 0.7665\n",
            "Epoch 2/20\n",
            "35/35 [==============================] - 142s 4s/step - loss: 0.1897 - accuracy: 0.9366 - val_loss: 0.1106 - val_accuracy: 0.9741\n",
            "Epoch 3/20\n",
            "35/35 [==============================] - 138s 4s/step - loss: 0.1046 - accuracy: 0.9679 - val_loss: 0.0983 - val_accuracy: 0.9705\n",
            "Epoch 4/20\n",
            "35/35 [==============================] - 136s 4s/step - loss: 0.0691 - accuracy: 0.9759 - val_loss: 0.1042 - val_accuracy: 0.9698\n",
            "Epoch 5/20\n",
            "35/35 [==============================] - 136s 4s/step - loss: 0.0511 - accuracy: 0.9830 - val_loss: 0.2579 - val_accuracy: 0.9404\n",
            "Epoch 6/20\n",
            "35/35 [==============================] - 133s 4s/step - loss: 0.0284 - accuracy: 0.9911 - val_loss: 0.2074 - val_accuracy: 0.9598\n"
          ]
        }
      ],
      "source": [
        "history = model.fit(train_data_from_tensor_slices,\n",
        "          validation_data = test_data_from_tensor_slices,\n",
        "          epochs=20, \n",
        "          callbacks=[es])"
      ]
    },
    {
      "cell_type": "code",
      "execution_count": 82,
      "metadata": {},
      "outputs": [
        {
          "data": {
            "image/png": "[encoded data removed]",
            "text/plain": [
              "<Figure size 800x800 with 2 Axes>"
            ]
          },
          "metadata": {},
          "output_type": "display_data"
        }
      ],
      "source": [
        "acc = history.history[\"accuracy\"]\n",
        "val_acc = history.history[\"val_accuracy\"]\n",
        "\n",
        "loss = history.history[\"loss\"]\n",
        "val_loss = history.history[\"val_loss\"]\n",
        "\n",
        "epochs_range = range(len(history.epoch))\n",
        "\n",
        "plt.figure(figsize=(8, 8))\n",
        "plt.subplot(1, 2, 1)\n",
        "plt.plot(epochs_range, acc, label=\"Training Accuracy\")\n",
        "plt.plot(epochs_range, val_acc, label=\"Validation Accuracy\")\n",
        "plt.legend(loc=\"lower right\")\n",
        "plt.title(\"Training and Validation Accuracy\")\n",
        "\n",
        "plt.subplot(1, 2, 2)\n",
        "plt.plot(epochs_range, loss, label=\"Training Loss\")\n",
        "plt.plot(epochs_range, val_loss, label=\"Validation Loss\")\n",
        "plt.legend(loc=\"upper right\")\n",
        "plt.title(\"Training and Validation Loss\")\n",
        "plt.show()"
      ]
    },
    {
      "cell_type": "markdown",
      "metadata": {},
      "source": [
        "# Test on new data"
      ]
    },
    {
      "cell_type": "code",
      "execution_count": 83,
      "metadata": {},
      "outputs": [
        {
          "name": "stdout",
          "output_type": "stream",
          "text": [
            "1/1 [==============================] - 1s 892ms/step\n",
            "0.6813605427742004, spam\n"
          ]
        }
      ],
      "source": [
        "X_new = \"sale today! to stop texts call 98912460324\"\n",
        "\n",
        "y_new = model.predict([X_new])\n",
        "prediction = y_new[0][0]\n",
        "print(f\"{prediction}, {'ham' if prediction <= 0.5 else 'spam'}\")"
      ]
    },
    {
      "cell_type": "code",
      "execution_count": 84,
      "metadata": {
        "id": "J9tD9yACG6M9"
      },
      "outputs": [],
      "source": [
        "# function to predict messages based on model\n",
        "# (should return list containing prediction and label, ex. [0.008318834938108921, 'ham'])\n",
        "def predict_message(pred_text):\n",
        "\n",
        "    y_new = model.predict([pred_text])\n",
        "    prediction = y_new[0][0]\n",
        "    \n",
        "    return [prediction, 'ham' if prediction <= 0.5 else 'spam']"
      ]
    },
    {
      "cell_type": "code",
      "execution_count": 85,
      "metadata": {},
      "outputs": [
        {
          "name": "stdout",
          "output_type": "stream",
          "text": [
            "1/1 [==============================] - 0s 305ms/step\n",
            "[0.018346965, 'ham']\n",
            "1/1 [==============================] - 0s 263ms/step\n",
            "[0.68136054, 'spam']\n"
          ]
        }
      ],
      "source": [
        "pred_text = \"how are you doing today?\"\n",
        "prediction = predict_message(pred_text)\n",
        "print(prediction)\n",
        "\n",
        "pred_text_2 = \"sale today! to stop texts call 98912460324\"\n",
        "prediction_2 = predict_message(pred_text_2)\n",
        "print(prediction_2)"
      ]
    },
    {
      "cell_type": "code",
      "execution_count": 86,
      "metadata": {
        "id": "Dxotov85SjsC"
      },
      "outputs": [
        {
          "name": "stdout",
          "output_type": "stream",
          "text": [
            "1/1 [==============================] - 0s 249ms/step\n",
            "1/1 [==============================] - 0s 250ms/step\n",
            "1/1 [==============================] - 0s 269ms/step\n",
            "1/1 [==============================] - 0s 283ms/step\n",
            "1/1 [==============================] - 0s 419ms/step\n",
            "1/1 [==============================] - 0s 237ms/step\n",
            "1/1 [==============================] - 0s 256ms/step\n",
            "You passed the challenge. Great job!\n"
          ]
        }
      ],
      "source": [
        "# Run this cell to test your function and model. Do not modify contents.\n",
        "def test_predictions():\n",
        "  test_messages = [\"how are you doing today\",\n",
        "                   \"sale today! to stop texts call 98912460324\",\n",
        "                   \"i dont want to go. can we try it a different day? available sat\",\n",
        "                   \"our new mobile video service is live. just install on your phone to start watching.\",\n",
        "                   \"you have won £1000 cash! call to claim your prize.\",\n",
        "                   \"i'll bring it tomorrow. don't forget the milk.\",\n",
        "                   \"wow, is your arm alright. that happened to me one time too\"\n",
        "                  ]\n",
        "\n",
        "  test_answers = [\"ham\", \"spam\", \"ham\", \"spam\", \"spam\", \"ham\", \"ham\"]\n",
        "  passed = True\n",
        "\n",
        "  for msg, ans in zip(test_messages, test_answers):\n",
        "    prediction = predict_message(msg)\n",
        "    if prediction[1] != ans:\n",
        "      passed = False\n",
        "\n",
        "  if passed:\n",
        "    print(\"You passed the challenge. Great job!\")\n",
        "  else:\n",
        "    print(\"You haven't passed yet. Keep trying.\")\n",
        "\n",
        "test_predictions()"
      ]
    }
  ],
  "metadata": {
    "colab": {
      "name": "fcc_sms_text_classification.ipynb",
      "private_outputs": true,
      "provenance": [],
      "toc_visible": true
    },
    "kernelspec": {
      "display_name": "Python 3",
      "name": "python3"
    },
    "language_info": {
      "codemirror_mode": {
        "name": "ipython",
        "version": 3
      },
      "file_extension": ".py",
      "mimetype": "text/x-python",
      "name": "python",
      "nbconvert_exporter": "python",
      "pygments_lexer": "ipython3",
      "version": "3.10.6"
    }
  },
  "nbformat": 4,
  "nbformat_minor": 0
}
